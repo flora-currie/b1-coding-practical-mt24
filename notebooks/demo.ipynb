{
 "cells": [
  {
   "cell_type": "code",
   "execution_count": 31,
   "metadata": {},
   "outputs": [],
   "source": [
    "# Add relevant Jupyter notebook extensions "
   ]
  },
  {
   "cell_type": "code",
   "execution_count": 32,
   "metadata": {},
   "outputs": [
    {
     "name": "stdout",
     "output_type": "stream",
     "text": [
      "['C:\\\\Program Files\\\\WindowsApps\\\\PythonSoftwareFoundation.Python.3.12_3.12.2032.0_x64__qbz5n2kfra8p0\\\\python312.zip', 'C:\\\\Program Files\\\\WindowsApps\\\\PythonSoftwareFoundation.Python.3.12_3.12.2032.0_x64__qbz5n2kfra8p0\\\\DLLs', 'C:\\\\Program Files\\\\WindowsApps\\\\PythonSoftwareFoundation.Python.3.12_3.12.2032.0_x64__qbz5n2kfra8p0\\\\Lib', 'C:\\\\Program Files\\\\WindowsApps\\\\PythonSoftwareFoundation.Python.3.12_3.12.2032.0_x64__qbz5n2kfra8p0', 'c:\\\\Users\\\\flora\\\\Documents\\\\year 3 engineering\\\\B1 Engineering Computation\\\\Scientific Coding\\\\practice\\\\.venvs\\\\sci-code-proj-venv', '', 'c:\\\\Users\\\\flora\\\\Documents\\\\year 3 engineering\\\\B1 Engineering Computation\\\\Scientific Coding\\\\practice\\\\.venvs\\\\sci-code-proj-venv\\\\Lib\\\\site-packages', 'c:\\\\Users\\\\flora\\\\Documents\\\\year 3 engineering\\\\B1 Engineering Computation\\\\Scientific Coding\\\\practice\\\\.venvs\\\\sci-code-proj-venv\\\\Lib\\\\site-packages\\\\win32', 'c:\\\\Users\\\\flora\\\\Documents\\\\year 3 engineering\\\\B1 Engineering Computation\\\\Scientific Coding\\\\practice\\\\.venvs\\\\sci-code-proj-venv\\\\Lib\\\\site-packages\\\\win32\\\\lib', 'c:\\\\Users\\\\flora\\\\Documents\\\\year 3 engineering\\\\B1 Engineering Computation\\\\Scientific Coding\\\\practice\\\\.venvs\\\\sci-code-proj-venv\\\\Lib\\\\site-packages\\\\Pythonwin', 'C:/Users/flora/Documents/year 3 engineering/B1 Engineering Computation/Scientific Coding/project/b1-coding-practical-mt24', 'C:/Users/flora/Documents/year 3 engineering/B1 Engineering Computation/Scientific Coding/project/b1-coding-practical-mt24', 'C:/Users/flora/Documents/year 3 engineering/B1 Engineering Computation/Scientific Coding/project/b1-coding-practical-mt24', 'C:/Users/flora/Documents/year 3 engineering/B1 Engineering Computation/Scientific Coding/project/b1-coding-practical-mt24', 'C:/Users/flora/Documents/year 3 engineering/B1 Engineering Computation/Scientific Coding/project/b1-coding-practical-mt24', 'C:/Users/flora/Documents/year 3 engineering/B1 Engineering Computation/Scientific Coding/project/b1-coding-practical-mt24/uuv_mission', 'C:/Users/flora/Documents/year 3 engineering/B1 Engineering Computation/Scientific Coding/project/b1-coding-practical-mt24/control', 'C:/Users/flora/Documents/year 3 engineering/B1 Engineering Computation/Scientific Coding/project/b1-coding-practical-mt24', 'C:/Users/flora/Documents/year 3 engineering/B1 Engineering Computation/Scientific Coding/project/b1-coding-practical-mt24/uuv_mission', 'C:/Users/flora/Documents/year 3 engineering/B1 Engineering Computation/Scientific Coding/project/b1-coding-practical-mt24/control', 'C:/Users/flora/Documents/year 3 engineering/B1 Engineering Computation/Scientific Coding/project/b1-coding-practical-mt24', 'C:/Users/flora/Documents/year 3 engineering/B1 Engineering Computation/Scientific Coding/project/b1-coding-practical-mt24', 'C:/Users/flora/Documents/year 3 engineering/B1 Engineering Computation/Scientific Coding/project/b1-coding-practical-mt24']\n"
     ]
    }
   ],
   "source": [
    "# You can double-check your Python path like this...\n",
    "import sys  \n",
    "print(sys.path)"
   ]
  },
  {
   "cell_type": "markdown",
   "metadata": {},
   "source": [
    "# Simulate closed-loop\n",
    "After implementing your control functionality, you can simulate the closed-loop with code that looks something like this..."
   ]
  },
  {
   "cell_type": "code",
   "execution_count": 33,
   "metadata": {},
   "outputs": [
    {
     "ename": "ImportError",
     "evalue": "cannot import name 'PDController' from 'control.PDcontroller' (C:\\Users/flora/Documents/year 3 engineering/B1 Engineering Computation/Scientific Coding/project/b1-coding-practical-mt24\\control\\PDcontroller.py)",
     "output_type": "error",
     "traceback": [
      "\u001b[1;31m---------------------------------------------------------------------------\u001b[0m",
      "\u001b[1;31mImportError\u001b[0m                               Traceback (most recent call last)",
      "Cell \u001b[1;32mIn[33], line 6\u001b[0m\n\u001b[0;32m      3\u001b[0m sys\u001b[38;5;241m.\u001b[39mpath\u001b[38;5;241m.\u001b[39mappend(\u001b[38;5;124mr\u001b[39m\u001b[38;5;124m'\u001b[39m\u001b[38;5;124mC:/Users/flora/Documents/year 3 engineering/B1 Engineering Computation/Scientific Coding/project/b1-coding-practical-mt24\u001b[39m\u001b[38;5;124m'\u001b[39m)\n\u001b[0;32m      5\u001b[0m \u001b[38;5;28;01mfrom\u001b[39;00m \u001b[38;5;21;01muuv_mission\u001b[39;00m\u001b[38;5;21;01m.\u001b[39;00m\u001b[38;5;21;01mdynamic\u001b[39;00m \u001b[38;5;28;01mimport\u001b[39;00m Submarine, ClosedLoop, Mission, Trajectory\n\u001b[1;32m----> 6\u001b[0m \u001b[38;5;28;01mfrom\u001b[39;00m \u001b[38;5;21;01mcontrol\u001b[39;00m\u001b[38;5;21;01m.\u001b[39;00m\u001b[38;5;21;01mPDcontroller\u001b[39;00m \u001b[38;5;28;01mimport\u001b[39;00m PDController\n\u001b[0;32m      8\u001b[0m sub \u001b[38;5;241m=\u001b[39m Submarine()\n\u001b[0;32m      9\u001b[0m \u001b[38;5;66;03m# Instantiate your controller (depending on your implementation)\u001b[39;00m\n",
      "\u001b[1;31mImportError\u001b[0m: cannot import name 'PDController' from 'control.PDcontroller' (C:\\Users/flora/Documents/year 3 engineering/B1 Engineering Computation/Scientific Coding/project/b1-coding-practical-mt24\\control\\PDcontroller.py)"
     ]
    }
   ],
   "source": [
    "# Import relevant modules\n",
    "import sys\n",
    "sys.path.append(r'C:/Users/flora/Documents/year 3 engineering/B1 Engineering Computation/Scientific Coding/project/b1-coding-practical-mt24')\n",
    "\n",
    "from uuv_mission.dynamic import Submarine, ClosedLoop, Mission, Trajectory\n",
    "from control.PDcontroller import PDController\n",
    "\n",
    "sub = Submarine()\n",
    "# Instantiate your controller (depending on your implementation)\n",
    "closed_loop = ClosedLoop(sub,PDController )\n",
    "mission = Mission.from_csv(\"data/mission\") \n",
    "\n",
    "trajectory = closed_loop.simulate_with_random_disturbances(mission)\n",
    "trajectory.plot_completed_mission(mission)"
   ]
  }
 ],
 "metadata": {
  "kernelspec": {
   "display_name": "sci-code-proj-venv",
   "language": "python",
   "name": "python3"
  },
  "language_info": {
   "codemirror_mode": {
    "name": "ipython",
    "version": 3
   },
   "file_extension": ".py",
   "mimetype": "text/x-python",
   "name": "python",
   "nbconvert_exporter": "python",
   "pygments_lexer": "ipython3",
   "version": "3.12.7"
  }
 },
 "nbformat": 4,
 "nbformat_minor": 2
}
